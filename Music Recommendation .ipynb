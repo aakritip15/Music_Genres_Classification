{
 "cells": [
  {
   "cell_type": "markdown",
   "id": "cabddd97",
   "metadata": {},
   "source": [
    "# Clustering\n",
    "Cluster analysis or clustering is the task of grouping a set of objects in such a way that objects in the same group are more similar to each other than to those in other groups. It is a unsupervised-machine learning technique to group data points characterized by specific features."
   ]
  },
  {
   "cell_type": "markdown",
   "id": "f3f51027",
   "metadata": {},
   "source": [
    "## Clustering Music Genres\n",
    "Clustering music genres is a task of grouping music based on the similarities in their audio characteristics.\n",
    "Every person has a different taste in music. We cannot identify what kind of music does a person likes by just knowing about their lifestyle, hobbies, or profession. But if we know what kind of songs a person listens to daily, we can find similarities in all the music files and recommend similar music to the person.\n",
    "\n",
    "Here our aim is to group music genres based on similarities in their audio characteristics from the dataset of popular songs on Spotify, which contains artists and music names with all audio characteristics of each music"
   ]
  },
  {
   "cell_type": "code",
   "execution_count": 37,
   "id": "78cf2551",
   "metadata": {},
   "outputs": [
    {
     "name": "stdout",
     "output_type": "stream",
     "text": [
      "   Index                   Title             Artist            Top Genre  \\\n",
      "0      1                 Sunrise        Norah Jones      adult standards   \n",
      "1      2             Black Night        Deep Purple           album rock   \n",
      "2      3          Clint Eastwood           Gorillaz  alternative hip hop   \n",
      "3      4           The Pretender       Foo Fighters    alternative metal   \n",
      "4      5  Waitin' On A Sunny Day  Bruce Springsteen         classic rock   \n",
      "\n",
      "   Year  Beats Per Minute (BPM)  Energy  Danceability  Loudness (dB)  \\\n",
      "0  2004                     157      30            53            -14   \n",
      "1  2000                     135      79            50            -11   \n",
      "2  2001                     168      69            66             -9   \n",
      "3  2007                     173      96            43             -4   \n",
      "4  2002                     106      82            58             -5   \n",
      "\n",
      "   Liveness  Valence Length (Duration)  Acousticness  Speechiness  Popularity  \n",
      "0        11       68               201            94            3          71  \n",
      "1        17       81               207            17            7          39  \n",
      "2         7       52               341             2           17          69  \n",
      "3         3       37               269             0            4          76  \n",
      "4        10       87               256             1            3          59  \n"
     ]
    }
   ],
   "source": [
    "import pandas as pd\n",
    "import numpy as np\n",
    "from sklearn import cluster\n",
    "\n",
    "data = pd.read_csv(\"Spotify-2000.csv\")\n",
    "print(data.head())"
   ]
  },
  {
   "cell_type": "code",
   "execution_count": 38,
   "id": "891ce380",
   "metadata": {},
   "outputs": [
    {
     "name": "stdout",
     "output_type": "stream",
     "text": [
      "                            Year  Beats Per Minute (BPM)    Energy  \\\n",
      "Year                    1.000000                0.012570  0.147235   \n",
      "Beats Per Minute (BPM)  0.012570                1.000000  0.156644   \n",
      "Energy                  0.147235                0.156644  1.000000   \n",
      "Danceability            0.077493               -0.140602  0.139616   \n",
      "Loudness (dB)           0.343764                0.092927  0.735711   \n",
      "Liveness                0.019017                0.016256  0.174118   \n",
      "Valence                -0.166163                0.059653  0.405175   \n",
      "Acousticness           -0.132946               -0.122472 -0.665156   \n",
      "Speechiness             0.054097                0.085598  0.205865   \n",
      "Popularity             -0.158962               -0.003181  0.103393   \n",
      "\n",
      "                        Danceability  Loudness (dB)  Liveness   Valence  \\\n",
      "Year                        0.077493       0.343764  0.019017 -0.166163   \n",
      "Beats Per Minute (BPM)     -0.140602       0.092927  0.016256  0.059653   \n",
      "Energy                      0.139616       0.735711  0.174118  0.405175   \n",
      "Danceability                1.000000       0.044235 -0.103063  0.514564   \n",
      "Loudness (dB)               0.044235       1.000000  0.098257  0.147041   \n",
      "Liveness                   -0.103063       0.098257  1.000000  0.050667   \n",
      "Valence                     0.514564       0.147041  0.050667  1.000000   \n",
      "Acousticness               -0.135769      -0.451635 -0.046206 -0.239729   \n",
      "Speechiness                 0.125229       0.125090  0.092594  0.107102   \n",
      "Popularity                  0.144344       0.165527 -0.111978  0.095911   \n",
      "\n",
      "                        Acousticness  Speechiness  Popularity  \n",
      "Year                       -0.132946     0.054097   -0.158962  \n",
      "Beats Per Minute (BPM)     -0.122472     0.085598   -0.003181  \n",
      "Energy                     -0.665156     0.205865    0.103393  \n",
      "Danceability               -0.135769     0.125229    0.144344  \n",
      "Loudness (dB)              -0.451635     0.125090    0.165527  \n",
      "Liveness                   -0.046206     0.092594   -0.111978  \n",
      "Valence                    -0.239729     0.107102    0.095911  \n",
      "Acousticness                1.000000    -0.098256   -0.087604  \n",
      "Speechiness                -0.098256     1.000000    0.111689  \n",
      "Popularity                 -0.087604     0.111689    1.000000  \n"
     ]
    }
   ],
   "source": [
    "data = data.drop(columns=[\"Index\"])\n",
    "print(data.corr(numeric_only=True))\n"
   ]
  },
  {
   "cell_type": "markdown",
   "id": "ab9b1600",
   "metadata": {},
   "source": [
    "Here, the corr() function is used to see the correlation between the audio feartures in the dataset. \n",
    "\n",
    "By setting numeric_only=True, you're explicitly indicating that you want to calculate the correlation only for numeric columns "
   ]
  },
  {
   "cell_type": "markdown",
   "id": "278e3f3e",
   "metadata": {},
   "source": [
    "## Clustering Analysis of Audio Features\n",
    "\n",
    "Now I will use the K-means clustering algorithm to find the similarities between all the audio features. Then I will add clusters in the dataset based on the similarities we found. So let’s create a new dataset of all the audio characteristics and perform clustering analysis using the K-means clustering algorithm:"
   ]
  },
  {
   "cell_type": "code",
   "execution_count": 39,
   "id": "1cacd4e1",
   "metadata": {},
   "outputs": [],
   "source": [
    "data2 = data[[\"Beats Per Minute (BPM)\", \"Loudness (dB)\", \n",
    "              \"Liveness\", \"Valence\", \"Acousticness\", \n",
    "              \"Speechiness\"]]\n"
   ]
  },
  {
   "cell_type": "markdown",
   "id": "2c664765",
   "metadata": {},
   "source": [
    "Here, we are specifying the features that we want to use in the new dataset data2"
   ]
  },
  {
   "cell_type": "code",
   "execution_count": null,
   "id": "52749079",
   "metadata": {},
   "outputs": [],
   "source": []
  }
 ],
 "metadata": {
  "kernelspec": {
   "display_name": "Python 3 (ipykernel)",
   "language": "python",
   "name": "python3"
  },
  "language_info": {
   "codemirror_mode": {
    "name": "ipython",
    "version": 3
   },
   "file_extension": ".py",
   "mimetype": "text/x-python",
   "name": "python",
   "nbconvert_exporter": "python",
   "pygments_lexer": "ipython3",
   "version": "3.10.9"
  }
 },
 "nbformat": 4,
 "nbformat_minor": 5
}
